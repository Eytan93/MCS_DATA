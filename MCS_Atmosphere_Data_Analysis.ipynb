{
 "cells": [
  {
   "cell_type": "code",
   "execution_count": 1,
   "metadata": {
    "collapsed": true
   },
   "outputs": [],
   "source": [
    "import pandas as pd \n",
    "import numpy as np\n",
    "import matplotlib.pyplot as plt\n",
    "import re\n",
    "import time\n",
    "import glob\n",
    "%matplotlib inline"
   ]
  },
  {
   "cell_type": "code",
   "execution_count": 2,
   "metadata": {},
   "outputs": [],
   "source": [
    "def getMCSprofiles(filename):\n",
    "    '''Function to select specific text data from the MCS orbiter and convert it into an array\n",
    "    Input:\n",
    "    filename = the location of the file\n",
    "    Output:\n",
    "    x: data converted to data frames'''\n",
    "    # The header contains column names and description\n",
    "    header_string = ' ### Retrieved profiles:'\n",
    "    header_lines = 4\n",
    "    # Open the file for reading\n",
    "    f = open(filename)\n",
    "    lines = f.readlines()\n",
    "    # Strip newline character from each line\n",
    "    lines = [line.replace(\"\\n\",\"\") for line in lines]\n",
    "    # Read through all lines to find header string\n",
    "    nlines = len(lines)\n",
    "    i = 0\n",
    "    for line in lines:\n",
    "        i += 1\n",
    "        if re.match(header_string, line):\n",
    "            idx = i + header_lines-1\n",
    "    # Extract only the lines containing profile data\n",
    "    data = lines[idx:nlines-1]\n",
    "    # Convert to floats\n",
    "    nrows = len(data)-1\n",
    "    y = np.array(data[0].split(), dtype=np.float)\n",
    "    ncols = len(y)\n",
    "    x = np.array([])\n",
    "    for j in np.arange(0,nrows):\n",
    "        x = np.append(x, np.array(data[j].split(), dtype=np.float))\n",
    "    x = np.reshape(x, [nrows,ncols])\n",
    "    columns = ['Pressure', 'Temperature', 'Temp_Err',\n",
    "        'Dust Column','Dust_Err', 'H2Oice','H2Oice_Err', 'H2Ovap', 'H2Ovap_Err', 'CO2ice', 'CO2ice_Err', 'Altitude', 'Latitude', 'Longitude'  ]\n",
    "    values = x\n",
    "    df = pd.DataFrame(x,columns=columns)\n",
    "    return df"
   ]
  },
  {
   "cell_type": "code",
   "execution_count": 3,
   "metadata": {},
   "outputs": [],
   "source": [
    "def getMCSdata(filename, data_string):\n",
    "    '''Function to select specific text data from the MCS orbiter and convert it into an array\n",
    "    Input:\n",
    "    filename = the location of the file\n",
    "    data_string = specific data to be looked at\n",
    "    Output:\n",
    "    x: data converted to floats'''\n",
    "    # The header contains column names and description\n",
    "    header_string = ' ### Header data:'\n",
    "    header_lines = 1\n",
    "    foot_string = ' ### RMS data:'\n",
    "    # Open the file for reading\n",
    "    f = open(filename)\n",
    "    lines = f.readlines()\n",
    "    # Strip newline character from each line\n",
    "    lines = [line.replace(\"\\n\",\"\") for line in lines]\n",
    "    foot_lines = lines.index(foot_string)\n",
    "    nlines = len(lines)\n",
    "    i = 0\n",
    "    # Restrict the text to only the data needed\n",
    "    for line in lines:\n",
    "        i += 1\n",
    "        if re.match(header_string, line):\n",
    "            idx = i + header_lines - 1 \n",
    "        if re.match(foot_string, line):\n",
    "            idy = foot_lines - nlines\n",
    "    #store data into a list\n",
    "    data = lines[idx:idy]\n",
    "    #get rid of leading whitespaces\n",
    "    x =[]\n",
    "    for i in data:\n",
    "        x.append(i.lstrip())\n",
    "    #get rid of trailing whitespaces\n",
    "    y = []\n",
    "    for i in x:\n",
    "        y.append(i.rstrip())\n",
    "    #split the data into two columns\n",
    "    z =[]\n",
    "    for i in y:\n",
    "        z.append(i.split('='))\n",
    "    #convert data to arrays\n",
    "    col1 = np.array(z)\n",
    "    #create column of strings\n",
    "    a = col1[:,0]\n",
    "    #convert array to list\n",
    "    b = a.tolist()\n",
    "    #strip column of strings of whitespaces\n",
    "    c=[]\n",
    "    for i in b:\n",
    "        c.append(i.strip())\n",
    "    #index for the matching data_string\n",
    "    colindex = c.index(data_string)\n",
    "    #create column of floats\n",
    "    d = col1[:,1]\n",
    "    #convert array to list\n",
    "    e = d.tolist()\n",
    "    #convert list of strings to floats\n",
    "    f = [float(i) for i in e]\n",
    "    #find the float matching data_string index\n",
    "    result = f[colindex]\n",
    "    return result"
   ]
  },
  {
   "cell_type": "code",
   "execution_count": 4,
   "metadata": {},
   "outputs": [],
   "source": [
    "def getAllMCSdata(data_string):\n",
    "    '''Function that uses the getMCSdata function to retrieve specific data from multiple data files\n",
    "    Input:\n",
    "    data_string = specific data to be looked at\n",
    "    Output:\n",
    "    x: a list of data converted to floats corresponding to the data files '''\n",
    "    path = 'mcs_ret_v*.out'\n",
    "    files = sorted(glob.glob(path))\n",
    "    x = []\n",
    "    for filename in files:\n",
    "        x.append(getMCSdata(filename, data_string))\n",
    "    return x    "
   ]
  },
  {
   "cell_type": "code",
   "execution_count": 5,
   "metadata": {},
   "outputs": [],
   "source": [
    "def getAllMCSprofiles():\n",
    "    path = 'mcs_ret_v*.out'\n",
    "    files = sorted(glob.glob(path))\n",
    "    x = []\n",
    "    for filename in files:\n",
    "        x.append(getMCSprofiles(filename))\n",
    "    return x  "
   ]
  },
  {
   "cell_type": "code",
   "execution_count": 6,
   "metadata": {
    "collapsed": true
   },
   "outputs": [],
   "source": [
    "def getMCSSum(parameter):\n",
    "    DFlist = getAllMCSprofiles()\n",
    "    x = []\n",
    "    for i in range(len(DFlist)):\n",
    "         x.append(getAllMCSprofiles()[i][parameter])\n",
    "    x = np.array(x)\n",
    "    y = []\n",
    "    for j in x:\n",
    "        y.append(sum(j[j != -9999.000]))\n",
    "    return y"
   ]
  },
  {
   "cell_type": "code",
   "execution_count": 7,
   "metadata": {},
   "outputs": [
    {
     "data": {
      "text/plain": [
       "[0.0016074236797999999, 0.013992161339999998]"
      ]
     },
     "execution_count": 7,
     "metadata": {},
     "output_type": "execute_result"
    }
   ],
   "source": [
    "x = (getMCSSum('H2Oice'))\n",
    "x"
   ]
  },
  {
   "cell_type": "code",
   "execution_count": 8,
   "metadata": {},
   "outputs": [
    {
     "name": "stdout",
     "output_type": "stream",
     "text": [
      "0.00750398635864\n",
      "[-43.65819, 49.36741]\n"
     ]
    }
   ],
   "source": [
    "t0=time.time()\n",
    "ayou = getAllMCSdata('Scene latitude')\n",
    "t1=time.time()\n",
    "print t1-t0\n",
    "print ayou"
   ]
  },
  {
   "cell_type": "code",
   "execution_count": 9,
   "metadata": {},
   "outputs": [
    {
     "name": "stdout",
     "output_type": "stream",
     "text": [
      "0.00366187095642\n",
      "0.0034\n"
     ]
    }
   ],
   "source": [
    "t0=time.time()\n",
    "a = getMCSdata('mcs_ret_v4.3.11.00001.out','H2Oice_843_nad_od')\n",
    "t1=time.time()\n",
    "print t1-t0\n",
    "print a"
   ]
  },
  {
   "cell_type": "code",
   "execution_count": 10,
   "metadata": {},
   "outputs": [
    {
     "name": "stdout",
     "output_type": "stream",
     "text": [
      "0.00544309616089\n",
      "        Pressure  Temperature  Temp_Err   Dust Column     Dust_Err  \\\n",
      "0    1878.932000    -9999.000 -9999.000 -9.999000e+03 -9999.000000   \n",
      "1    1658.152000    -9999.000 -9999.000 -9.999000e+03 -9999.000000   \n",
      "2    1463.314000    -9999.000 -9999.000 -9.999000e+03 -9999.000000   \n",
      "3    1291.370000    -9999.000 -9999.000 -9.999000e+03 -9999.000000   \n",
      "4    1139.630000    -9999.000 -9999.000 -9.999000e+03 -9999.000000   \n",
      "5    1005.720000    -9999.000 -9999.000 -9.999000e+03 -9999.000000   \n",
      "6     887.544800    -9999.000 -9999.000 -9.999000e+03 -9999.000000   \n",
      "7     783.255500    -9999.000 -9999.000 -9.999000e+03 -9999.000000   \n",
      "8     691.220500    -9999.000 -9999.000 -9.999000e+03 -9999.000000   \n",
      "9     610.000000    -9999.000 -9999.000 -9.999000e+03 -9999.000000   \n",
      "10    538.323100    -9999.000 -9999.000 -9.999000e+03 -9999.000000   \n",
      "11    475.068500    -9999.000 -9999.000 -9.999000e+03 -9999.000000   \n",
      "12    419.246500    -9999.000 -9999.000 -9.999000e+03 -9999.000000   \n",
      "13    369.983700      166.344     4.988 -9.999000e+03 -9999.000000   \n",
      "14    326.509500      166.183     3.727 -9.999000e+03 -9999.000000   \n",
      "15    288.143600      166.120     1.826 -9.999000e+03 -9999.000000   \n",
      "16    254.285800      166.367     0.730 -9.999000e+03 -9999.000000   \n",
      "17    224.406500      167.106     0.532  2.411100e-07     0.000003   \n",
      "18    198.038000      168.412     0.527  9.749200e-08     0.000001   \n",
      "19    174.767900      170.159     0.655  1.547400e-08     0.000001   \n",
      "20    154.232100      171.874     0.656  1.332500e-09     0.000001   \n",
      "21    136.109400      173.075     0.623  1.000000e-09     0.000001   \n",
      "22    120.116100      173.542     0.646  1.000000e-09     0.000001   \n",
      "23    106.002100      173.395     0.605  1.000000e-09     0.000001   \n",
      "24     93.546530      172.883     0.332  1.000000e-09     0.000001   \n",
      "25     82.554520      172.217     0.232 -9.999000e+03 -9999.000000   \n",
      "26     72.854110      171.515     0.220 -9.999000e+03 -9999.000000   \n",
      "27     64.293530      170.787     0.267 -9.999000e+03 -9999.000000   \n",
      "28     56.738840      169.896     0.309 -9.999000e+03 -9999.000000   \n",
      "29     50.071850      168.679     0.340 -9.999000e+03 -9999.000000   \n",
      "..           ...          ...       ...           ...          ...   \n",
      "73      0.204632      128.500     6.574 -9.999000e+03 -9999.000000   \n",
      "74      0.180587      129.599     7.004 -9.999000e+03 -9999.000000   \n",
      "75      0.159368      130.714     7.483 -9.999000e+03 -9999.000000   \n",
      "76      0.140642      131.717     7.406 -9.999000e+03 -9999.000000   \n",
      "77      0.124116      132.465     6.997 -9.999000e+03 -9999.000000   \n",
      "78      0.109532      132.870     7.157 -9.999000e+03 -9999.000000   \n",
      "79      0.096661      132.948     8.280 -9.999000e+03 -9999.000000   \n",
      "80      0.085303      132.813     8.316 -9.999000e+03 -9999.000000   \n",
      "81      0.075280      132.505     8.025 -9.999000e+03 -9999.000000   \n",
      "82      0.066434      132.025     8.372 -9.999000e+03 -9999.000000   \n",
      "83      0.058628      131.316    10.309 -9.999000e+03 -9999.000000   \n",
      "84      0.051739      130.400    12.275 -9.999000e+03 -9999.000000   \n",
      "85      0.045660      129.426    13.759 -9.999000e+03 -9999.000000   \n",
      "86      0.040294      128.584    15.412 -9.999000e+03 -9999.000000   \n",
      "87      0.035560      127.984    17.829 -9.999000e+03 -9999.000000   \n",
      "88      0.031381      127.603    20.983 -9.999000e+03 -9999.000000   \n",
      "89      0.027694      127.334    23.502 -9.999000e+03 -9999.000000   \n",
      "90      0.024440      127.122    25.844 -9.999000e+03 -9999.000000   \n",
      "91      0.021568      126.948    28.108 -9.999000e+03 -9999.000000   \n",
      "92      0.019034    -9999.000 -9999.000 -9.999000e+03 -9999.000000   \n",
      "93      0.016797    -9999.000 -9999.000 -9.999000e+03 -9999.000000   \n",
      "94      0.014824    -9999.000 -9999.000 -9.999000e+03 -9999.000000   \n",
      "95      0.013082    -9999.000 -9999.000 -9.999000e+03 -9999.000000   \n",
      "96      0.011545    -9999.000 -9999.000 -9.999000e+03 -9999.000000   \n",
      "97      0.010188    -9999.000 -9999.000 -9.999000e+03 -9999.000000   \n",
      "98      0.008991    -9999.000 -9999.000 -9.999000e+03 -9999.000000   \n",
      "99      0.007934    -9999.000 -9999.000 -9.999000e+03 -9999.000000   \n",
      "100     0.007002    -9999.000 -9999.000 -9.999000e+03 -9999.000000   \n",
      "101     0.006179    -9999.000 -9999.000 -9.999000e+03 -9999.000000   \n",
      "102     0.005453    -9999.000 -9999.000 -9.999000e+03 -9999.000000   \n",
      "\n",
      "           H2Oice   H2Oice_Err  H2Ovap  H2Ovap_Err  CO2ice  CO2ice_Err  \\\n",
      "0   -9.999000e+03 -9999.000000 -9999.0     -9999.0 -9999.0     -9999.0   \n",
      "1   -9.999000e+03 -9999.000000 -9999.0     -9999.0 -9999.0     -9999.0   \n",
      "2   -9.999000e+03 -9999.000000 -9999.0     -9999.0 -9999.0     -9999.0   \n",
      "3   -9.999000e+03 -9999.000000 -9999.0     -9999.0 -9999.0     -9999.0   \n",
      "4   -9.999000e+03 -9999.000000 -9999.0     -9999.0 -9999.0     -9999.0   \n",
      "5   -9.999000e+03 -9999.000000 -9999.0     -9999.0 -9999.0     -9999.0   \n",
      "6   -9.999000e+03 -9999.000000 -9999.0     -9999.0 -9999.0     -9999.0   \n",
      "7   -9.999000e+03 -9999.000000 -9999.0     -9999.0 -9999.0     -9999.0   \n",
      "8   -9.999000e+03 -9999.000000 -9999.0     -9999.0 -9999.0     -9999.0   \n",
      "9   -9.999000e+03 -9999.000000 -9999.0     -9999.0 -9999.0     -9999.0   \n",
      "10  -9.999000e+03 -9999.000000 -9999.0     -9999.0 -9999.0     -9999.0   \n",
      "11  -9.999000e+03 -9999.000000 -9999.0     -9999.0 -9999.0     -9999.0   \n",
      "12  -9.999000e+03 -9999.000000 -9999.0     -9999.0 -9999.0     -9999.0   \n",
      "13  -9.999000e+03 -9999.000000 -9999.0     -9999.0 -9999.0     -9999.0   \n",
      "14  -9.999000e+03 -9999.000000 -9999.0     -9999.0 -9999.0     -9999.0   \n",
      "15  -9.999000e+03 -9999.000000 -9999.0     -9999.0 -9999.0     -9999.0   \n",
      "16  -9.999000e+03 -9999.000000 -9999.0     -9999.0 -9999.0     -9999.0   \n",
      "17   7.469800e-04     0.000044 -9999.0     -9999.0 -9999.0     -9999.0   \n",
      "18   6.553200e-04     0.000033 -9999.0     -9999.0 -9999.0     -9999.0   \n",
      "19   1.964300e-04     0.000031 -9999.0     -9999.0 -9999.0     -9999.0   \n",
      "20   8.676900e-06     0.000008 -9999.0     -9999.0 -9999.0     -9999.0   \n",
      "21   1.244800e-08     0.000001 -9999.0     -9999.0 -9999.0     -9999.0   \n",
      "22   1.000000e-09     0.000001 -9999.0     -9999.0 -9999.0     -9999.0   \n",
      "23   1.000000e-09     0.000001 -9999.0     -9999.0 -9999.0     -9999.0   \n",
      "24   1.064000e-09     0.000001 -9999.0     -9999.0 -9999.0     -9999.0   \n",
      "25   1.267800e-09     0.000001 -9999.0     -9999.0 -9999.0     -9999.0   \n",
      "26  -9.999000e+03 -9999.000000 -9999.0     -9999.0 -9999.0     -9999.0   \n",
      "27  -9.999000e+03 -9999.000000 -9999.0     -9999.0 -9999.0     -9999.0   \n",
      "28  -9.999000e+03 -9999.000000 -9999.0     -9999.0 -9999.0     -9999.0   \n",
      "29  -9.999000e+03 -9999.000000 -9999.0     -9999.0 -9999.0     -9999.0   \n",
      "..            ...          ...     ...         ...     ...         ...   \n",
      "73  -9.999000e+03 -9999.000000 -9999.0     -9999.0 -9999.0     -9999.0   \n",
      "74  -9.999000e+03 -9999.000000 -9999.0     -9999.0 -9999.0     -9999.0   \n",
      "75  -9.999000e+03 -9999.000000 -9999.0     -9999.0 -9999.0     -9999.0   \n",
      "76  -9.999000e+03 -9999.000000 -9999.0     -9999.0 -9999.0     -9999.0   \n",
      "77  -9.999000e+03 -9999.000000 -9999.0     -9999.0 -9999.0     -9999.0   \n",
      "78  -9.999000e+03 -9999.000000 -9999.0     -9999.0 -9999.0     -9999.0   \n",
      "79  -9.999000e+03 -9999.000000 -9999.0     -9999.0 -9999.0     -9999.0   \n",
      "80  -9.999000e+03 -9999.000000 -9999.0     -9999.0 -9999.0     -9999.0   \n",
      "81  -9.999000e+03 -9999.000000 -9999.0     -9999.0 -9999.0     -9999.0   \n",
      "82  -9.999000e+03 -9999.000000 -9999.0     -9999.0 -9999.0     -9999.0   \n",
      "83  -9.999000e+03 -9999.000000 -9999.0     -9999.0 -9999.0     -9999.0   \n",
      "84  -9.999000e+03 -9999.000000 -9999.0     -9999.0 -9999.0     -9999.0   \n",
      "85  -9.999000e+03 -9999.000000 -9999.0     -9999.0 -9999.0     -9999.0   \n",
      "86  -9.999000e+03 -9999.000000 -9999.0     -9999.0 -9999.0     -9999.0   \n",
      "87  -9.999000e+03 -9999.000000 -9999.0     -9999.0 -9999.0     -9999.0   \n",
      "88  -9.999000e+03 -9999.000000 -9999.0     -9999.0 -9999.0     -9999.0   \n",
      "89  -9.999000e+03 -9999.000000 -9999.0     -9999.0 -9999.0     -9999.0   \n",
      "90  -9.999000e+03 -9999.000000 -9999.0     -9999.0 -9999.0     -9999.0   \n",
      "91  -9.999000e+03 -9999.000000 -9999.0     -9999.0 -9999.0     -9999.0   \n",
      "92  -9.999000e+03 -9999.000000 -9999.0     -9999.0 -9999.0     -9999.0   \n",
      "93  -9.999000e+03 -9999.000000 -9999.0     -9999.0 -9999.0     -9999.0   \n",
      "94  -9.999000e+03 -9999.000000 -9999.0     -9999.0 -9999.0     -9999.0   \n",
      "95  -9.999000e+03 -9999.000000 -9999.0     -9999.0 -9999.0     -9999.0   \n",
      "96  -9.999000e+03 -9999.000000 -9999.0     -9999.0 -9999.0     -9999.0   \n",
      "97  -9.999000e+03 -9999.000000 -9999.0     -9999.0 -9999.0     -9999.0   \n",
      "98  -9.999000e+03 -9999.000000 -9999.0     -9999.0 -9999.0     -9999.0   \n",
      "99  -9.999000e+03 -9999.000000 -9999.0     -9999.0 -9999.0     -9999.0   \n",
      "100 -9.999000e+03 -9999.000000 -9999.0     -9999.0 -9999.0     -9999.0   \n",
      "101 -9.999000e+03 -9999.000000 -9999.0     -9999.0 -9999.0     -9999.0   \n",
      "102 -9.999000e+03 -9999.000000 -9999.0     -9999.0 -9999.0     -9999.0   \n",
      "\n",
      "     Altitude  Latitude  Longitude  \n",
      "0   -9999.000 -9999.000  -9999.000  \n",
      "1   -9999.000 -9999.000  -9999.000  \n",
      "2   -9999.000 -9999.000  -9999.000  \n",
      "3   -9999.000 -9999.000  -9999.000  \n",
      "4   -9999.000 -9999.000  -9999.000  \n",
      "5   -9999.000 -9999.000  -9999.000  \n",
      "6   -9999.000 -9999.000  -9999.000  \n",
      "7   -9999.000 -9999.000  -9999.000  \n",
      "8   -9999.000 -9999.000  -9999.000  \n",
      "9   -9999.000 -9999.000  -9999.000  \n",
      "10  -9999.000 -9999.000  -9999.000  \n",
      "11  -9999.000 -9999.000  -9999.000  \n",
      "12      0.813   -42.432    -62.751  \n",
      "13      1.881   -42.479    -62.757  \n",
      "14      2.949   -42.526    -62.762  \n",
      "15      4.017   -42.573    -62.768  \n",
      "16      5.086   -42.620    -62.774  \n",
      "17      6.159   -42.668    -62.780  \n",
      "18      7.238   -42.716    -62.785  \n",
      "19      8.329   -42.764    -62.791  \n",
      "20      9.431   -42.813    -62.797  \n",
      "21     10.543   -42.863    -62.803  \n",
      "22     11.662   -42.913    -62.810  \n",
      "23     12.783   -42.963    -62.816  \n",
      "24     13.902   -43.014    -62.822  \n",
      "25     15.018   -43.064    -62.828  \n",
      "26     16.130   -43.114    -62.834  \n",
      "27     17.239   -43.165    -62.841  \n",
      "28     18.343   -43.215    -62.847  \n",
      "29     19.441   -43.265    -62.853  \n",
      "..        ...       ...        ...  \n",
      "73     63.336   -45.372    -63.125  \n",
      "74     64.196   -45.415    -63.130  \n",
      "75     65.063   -45.459    -63.136  \n",
      "76     65.937   -45.504    -63.142  \n",
      "77     66.817   -45.549    -63.148  \n",
      "78     67.702   -45.594    -63.154  \n",
      "79     68.589   -45.640    -63.161  \n",
      "80     69.476   -45.685    -63.167  \n",
      "81     70.362   -45.731    -63.173  \n",
      "82     71.246   -45.777    -63.179  \n",
      "83     72.126   -45.823    -63.185  \n",
      "84     73.002   -45.868    -63.192  \n",
      "85     73.872   -45.914    -63.198  \n",
      "86     74.736   -45.959    -63.204  \n",
      "87     75.596   -46.004    -63.210  \n",
      "88     76.452   -46.049    -63.216  \n",
      "89     77.307   -46.094    -63.222  \n",
      "90     78.161   -46.139    -63.229  \n",
      "91     79.014   -46.184    -63.235  \n",
      "92     79.866   -46.229    -63.241  \n",
      "93     80.718   -46.275    -63.247  \n",
      "94     81.569   -46.320    -63.254  \n",
      "95     82.420   -46.366    -63.260  \n",
      "96     83.271   -46.411    -63.266  \n",
      "97     84.122   -46.457    -63.273  \n",
      "98     84.973   -46.503    -63.279  \n",
      "99     85.823   -46.549    -63.285  \n",
      "100    86.674   -46.595    -63.292  \n",
      "101    87.525   -46.641    -63.298  \n",
      "102    88.375   -46.688    -63.305  \n",
      "\n",
      "[103 rows x 14 columns]\n"
     ]
    }
   ],
   "source": [
    "t0=time.time()\n",
    "DF = getMCSprofiles('mcs_ret_v4.3.11.00001.out')\n",
    "t1=time.time()\n",
    "print t1-t0\n",
    "print DF"
   ]
  },
  {
   "cell_type": "code",
   "execution_count": 11,
   "metadata": {},
   "outputs": [],
   "source": [
    "useful = DF.loc[13:91]"
   ]
  },
  {
   "cell_type": "code",
   "execution_count": 12,
   "metadata": {
    "collapsed": true
   },
   "outputs": [],
   "source": [
    "t = np.array(useful['Temperature'])\n",
    "a = np.array(useful['Altitude'])\n",
    "p = np.array(useful['Pressure'])"
   ]
  },
  {
   "cell_type": "code",
   "execution_count": 13,
   "metadata": {},
   "outputs": [
    {
     "data": {
      "image/png": "[encoded data removed]",
      "text/plain": [
       "<matplotlib.figure.Figure at 0x1112c3a10>"
      ]
     },
     "metadata": {},
     "output_type": "display_data"
    }
   ],
   "source": [
    "plt.plot(t, a)\n",
    "plt.title('Temperature vs. Altitude')\n",
    "plt.xlabel('Temperature (K)')\n",
    "plt.ylabel('Altitude (km)')\n",
    "plt.show()"
   ]
  },
  {
   "cell_type": "code",
   "execution_count": 14,
   "metadata": {},
   "outputs": [
    {
     "data": {
      "image/png": "[encoded data removed]",
      "text/plain": [
       "<matplotlib.figure.Figure at 0x11131bb50>"
      ]
     },
     "metadata": {},
     "output_type": "display_data"
    }
   ],
   "source": [
    "plt.plot(p, a)\n",
    "plt.title('Pressure vs. Altitude')\n",
    "plt.xlabel('Pressure (Pa)')\n",
    "plt.ylabel('Altitude (km)')\n",
    "plt.show()"
   ]
  }
 ],
 "metadata": {
  "kernelspec": {
   "display_name": "Python 2",
   "language": "python",
   "name": "python2"
  },
  "language_info": {
   "codemirror_mode": {
    "name": "ipython",
    "version": 2
   },
   "file_extension": ".py",
   "mimetype": "text/x-python",
   "name": "python",
   "nbconvert_exporter": "python",
   "pygments_lexer": "ipython2",
   "version": "2.7.14"
  }
 },
 "nbformat": 4,
 "nbformat_minor": 2
}
